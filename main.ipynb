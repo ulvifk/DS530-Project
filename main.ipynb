{
 "cells": [
  {
   "cell_type": "code",
   "id": "initial_id",
   "metadata": {
    "collapsed": true,
    "ExecuteTime": {
     "end_time": "2024-05-09T08:37:41.183200Z",
     "start_time": "2024-05-09T08:37:40.916544Z"
    }
   },
   "source": [
    "    import pickle\n",
    "\n",
    "import numpy as np\n",
    "import pandas as pd\n",
    "import scipy.stats as ss\n",
    "from sklearn.model_selection import train_test_split, KFold\n",
    "\n",
    "import src.utils as utils\n",
    "from src import *"
   ],
   "outputs": [],
   "execution_count": 1
  },
  {
   "metadata": {
    "ExecuteTime": {
     "end_time": "2024-05-09T08:37:41.186325Z",
     "start_time": "2024-05-09T08:37:41.183803Z"
    }
   },
   "cell_type": "code",
   "source": [
    "import seaborn as sns\n",
    "import matplotlib.pyplot as plt\n",
    "\n",
    "\n",
    "def plot_corr(cols):\n",
    "    cols_ = [col for col in problem_data.df.columns if any([c.lower() in col.lower() for c in cols])]\n",
    "    print(cols_)\n",
    "    cov_matrix = problem_data.df[cols_].corr()\n",
    "\n",
    "    # Plotting the covariance matrix\n",
    "    plt.figure(figsize=(10, 10))\n",
    "    sns.heatmap(cov_matrix, annot=True, fmt='.2f', cmap='coolwarm')\n",
    "    plt.title('Covariance Matrix')\n",
    "    plt.show()"
   ],
   "id": "1ddc9d06bed47c44",
   "outputs": [],
   "execution_count": 2
  },
  {
   "metadata": {
    "ExecuteTime": {
     "end_time": "2024-05-09T08:37:41.200898Z",
     "start_time": "2024-05-09T08:37:41.187819Z"
    }
   },
   "cell_type": "code",
   "source": [
    "\n",
    "\n",
    "\n",
    "def ploy_feature_importance_non_aggregated(model, problem_data):\n",
    "    feature_importance = model._model.feature_importances_\n",
    "    df_feature_importance = pd.DataFrame(\n",
    "        {\"feature\": problem_data.df_X.columns, \"importance\": feature_importance}\n",
    "    )\n",
    "\n",
    "    df_feature_importance = df_feature_importance.sort_values(\"importance\", ascending=False)\n",
    "    df_feature_importance = df_feature_importance[df_feature_importance[\"importance\"] > 0.01]\n",
    "    df_feature_importance.plot(kind=\"bar\", x=\"feature\", y=\"importance\")\n",
    "\n",
    "\n",
    "def plot_feature_importance(model, problem_data, feature_names):\n",
    "    _feature_importance = model._model.feature_importances_\n",
    "    feature_importance = [\n",
    "        sum(_feature_importance[[i for i, col in enumerate(problem_data.df_X.columns) if feature_name in col]])\n",
    "        for feature_name in feature_names\n",
    "    ]\n",
    "\n",
    "    df_feature_importance = pd.DataFrame(\n",
    "        {\"feature\": feature_names, \"importance\": feature_importance}\n",
    "    )\n",
    "\n",
    "    df_feature_importance = df_feature_importance.sort_values(\"importance\", ascending=False)\n",
    "    df_feature_importance.plot(kind=\"bar\", x=\"feature\", y=\"importance\")\n",
    "\n",
    "\n",
    "def print_metrics(model, test_X_df: pd.DataFrame, test_y_df: pd.DataFrame, df_original: pd.DataFrame):\n",
    "    dfs_sexes = {}\n",
    "    dfs_races = {}\n",
    "    male_indices = np.intersect1d(df_original[df_original[\"sex\"] == \"Male\"].index, test_X_df.index)\n",
    "    female_indices = np.intersect1d(df_original[df_original[\"sex\"] != \"Male\"].index, test_X_df.index)\n",
    "\n",
    "    white_indices = np.intersect1d(df_original[df_original[\"race\"] == \"White\"].index, test_X_df.index)\n",
    "    other_indices = np.intersect1d(df_original[df_original[\"race\"] != \"White\"].index, test_X_df.index)\n",
    "\n",
    "    dfs_sexes[\"Male\"] = (test_X_df.loc[male_indices], test_y_df.loc[male_indices])\n",
    "\n",
    "    dfs_sexes[\"Female\"] = (test_X_df.loc[female_indices], test_y_df.loc[female_indices])\n",
    "\n",
    "    dfs_races[\"White\"] = (test_X_df.loc[white_indices], test_y_df.loc[white_indices])\n",
    "\n",
    "    dfs_races[\"Other\"] = (test_X_df.loc[other_indices], test_y_df.loc[other_indices])\n",
    "\n",
    "    results_df_sex = pd.DataFrame(columns=[\"Sex\", \"Accuracy\", \"TPR\", \"TNR\"])\n",
    "    for (i), (X, y) in dfs_sexes.items():\n",
    "        acc = utils.calculate_accuracy_score(model, X.values, y.values.reshape(-1))\n",
    "        precision = utils.calculate_tpr_score(model, X.values, y.values.reshape(-1))\n",
    "        recall = utils.calculate_tnr_score(model, X.values, y.values.reshape(-1))\n",
    "        row = [i,\n",
    "               acc, precision, recall]\n",
    "        results_df_sex.loc[len(results_df_sex)] = row\n",
    "\n",
    "    results_df_race = pd.DataFrame(columns=[\"Race\", \"Accuracy\", \"TPR\", \"TNR\"])\n",
    "    for (i), (X, y) in dfs_races.items():\n",
    "        acc = utils.calculate_accuracy_score(model, X.values, y.values.reshape(-1))\n",
    "        precision = utils.calculate_tpr_score(model, X.values, y.values.reshape(-1))\n",
    "        recall = utils.calculate_tnr_score(model, X.values, y.values.reshape(-1))\n",
    "        row = [i,\n",
    "               acc, precision, recall]\n",
    "        results_df_race.loc[len(results_df_race)] = row\n",
    "\n",
    "    print_df_as_latex(results_df_sex)\n",
    "    print_df_as_latex(results_df_race)\n",
    "\n",
    "\n",
    "def train_model(model: type, features_to_exclude: list[str], params:dict = {}):\n",
    "    problem_data = ProblemData(features_to_exclude)\n",
    "\n",
    "    train_X_df, test_X_df, train_y_df, test_y_df = train_test_split(\n",
    "        problem_data.df_X, problem_data.df_y, test_size=0.2, random_state=42,\n",
    "        shuffle=True\n",
    "    )\n",
    "\n",
    "    train_X = train_X_df.values\n",
    "    test_X = test_X_df.values\n",
    "    train_y = train_y_df.values.reshape(-1)\n",
    "    test_y = test_y_df.values.reshape(-1)\n",
    "    train_X, train_y, test_X, test_y = utils.process_data(train_X, train_y, test_X, test_y)\n",
    "    \n",
    "    train_X_df[train_X_df.columns] = train_X\n",
    "    test_X_df[test_X_df.columns] = test_X\n",
    "    train_y_df[train_y_df.columns] = train_y.reshape(-1, 1)\n",
    "    test_y_df[test_y_df.columns] = test_y.reshape(-1, 1)\n",
    "\n",
    "    model = model(params)\n",
    "    model.fit(train_X, train_y)\n",
    "    \n",
    "    print_metrics(model, test_X_df, test_y_df, problem_data.original_df)\n",
    "\n",
    "    print(\"Accuracy: \", utils.calculate_accuracy_score(model, test_X, test_y))\n",
    "    print(\"Precision (TPR): \", utils.calculate_tpr_score(model, test_X, test_y))\n",
    "\n",
    "    return model, problem_data, train_X_df, train_y_df, test_X_df, test_y_df\n",
    "    \n",
    "\n",
    "def cramers_v(col1, col2):\n",
    "    confusion_matrix = pd.crosstab(col1, col2).values\n",
    "\n",
    "    chi2 = ss.chi2_contingency(confusion_matrix)[0]\n",
    "    n = confusion_matrix.sum()\n",
    "    phi2 = chi2 / n\n",
    "    r, k = confusion_matrix.shape\n",
    "    phi2corr = max(0, phi2 - ((k - 1) * (r - 1)) / (n - 1))\n",
    "    rcorr = r - ((r - 1) ** 2) / (n - 1)\n",
    "    kcorr = k - ((k - 1) ** 2) / (n - 1)\n",
    "    return np.sqrt(phi2corr / min((kcorr - 1), (rcorr - 1)))\n",
    "\n",
    "\n",
    "def compute_cramers_v_matrix(df: pd.DataFrame, columns: list[str]):\n",
    "    corr_matrix = pd.DataFrame(index=columns, columns=columns)\n",
    "    for col1 in columns:\n",
    "        for col2 in columns:\n",
    "            corr_matrix.loc[col1, col2] = cramers_v(df[col1], df[col2])\n",
    "    return corr_matrix.astype(float)\n",
    "\n",
    "\n",
    "def plot_cramers_v_matrix(df: pd.DataFrame, columns: list[str]):\n",
    "    corr_matrix = compute_cramers_v_matrix(df, columns)\n",
    "    plt.figure(figsize=(10, 10))\n",
    "    sns.heatmap(corr_matrix, annot=True, fmt='.2f', cmap='coolwarm')\n",
    "    plt.title('Cramers V Matrix')\n",
    "    plt.show()\n",
    "    \n",
    "def print_df_as_latex(df: pd.DataFrame):\n",
    "    # format floating point numbers\n",
    "    print(\" & \".join(list(df.columns)))\n",
    "    for i, row in df.iterrows():\n",
    "        print(\" & \".join([f\"{x:.2f}\" if isinstance(x, float) else str(x) for x in row.values]) + \" \\\\\\\\\")\n",
    "        \n",
    "def cross_validate(model: type, features_to_exclude: list[str], params:dict = {}):\n",
    "    def test_and_return_score(problem_data: ProblemData, model_name: type, train_indices: np.array, test_indices: np.array,\n",
    "                              error_metric: callable) -> np.float64:\n",
    "        train_X, train_Y = (problem_data.df_X.values[train_indices],\n",
    "                            problem_data.df_y.values[train_indices])\n",
    "        train_Y = train_Y.reshape(-1)\n",
    "\n",
    "        test_X, test_Y = (problem_data.df_X.values[test_indices],\n",
    "                          problem_data.df_y.values[test_indices])\n",
    "        test_Y = test_Y.reshape(-1)\n",
    "\n",
    "        train_X, train_Y, test_X, test_Y = utils.process_data(train_X, train_Y, test_X, test_Y)\n",
    "\n",
    "        model = model_name(params)\n",
    "        model.fit(train_X, train_Y)\n",
    "\n",
    "        return error_metric(model, test_X, test_Y)\n",
    "    \n",
    "    problem_data = ProblemData(features_to_exclude)\n",
    "    \n",
    "    kf = KFold(n_splits=5, shuffle=True, random_state=42)\n",
    "    data_sets = list(KFold(n_splits=5, shuffle=True, random_state=42)\n",
    "                         .split(problem_data.df_X, problem_data.df_y))\n",
    "    accs = []\n",
    "    tprs = []\n",
    "    tnrs = []\n",
    "    for train_indices, test_indices in data_sets:\n",
    "        accs.append(test_and_return_score(problem_data, model, train_indices, test_indices, utils.calculate_accuracy_score))\n",
    "        tprs.append(test_and_return_score(problem_data, model, train_indices, test_indices, utils.calculate_tpr_score))\n",
    "        tnrs.append(test_and_return_score(problem_data, model, train_indices, test_indices, utils.calculate_tnr_score))\n",
    "        \n",
    "    print(\"Accuracy: \", np.mean(accs))\n",
    "    print(\"TPR: \", np.mean(tprs))\n",
    "    print(\"TNR: \", np.mean(tnrs))\n",
    "    "
   ],
   "id": "37103ebd3d6bb7e0",
   "outputs": [],
   "execution_count": 3
  },
  {
   "metadata": {
    "ExecuteTime": {
     "end_time": "2024-05-09T08:37:41.984676Z",
     "start_time": "2024-05-09T08:37:41.201637Z"
    }
   },
   "cell_type": "code",
   "source": [
    "model, problem_data, train_X, train_y, test_X, test_y = train_model(XGBoost, [], {})\n",
    "original_df = problem_data.original_df\n",
    "\n",
    "print(\"Accuracy: \", utils.calculate_accuracy_score(model, test_X.values, test_y.values.reshape(-1)))\n",
    "print(\"F1: \", utils.calculate_f1_score(model, test_X.values, test_y.values.reshape(-1)))\n",
    "print(\"ROC AUC: \", utils.calculate_auc_score(model, test_X.values, test_y.values.reshape(-1)))"
   ],
   "id": "a41f42c6b2b86cf4",
   "outputs": [
    {
     "name": "stdout",
     "output_type": "stream",
     "text": [
      "Sex & Accuracy & TPR & TNR\n",
      "Male & 0.84 & 0.79 & 0.92 \\\\\n",
      "Female & 0.93 & 0.78 & 0.98 \\\\\n",
      "Race & Accuracy & TPR & TNR\n",
      "White & 0.86 & 0.78 & 0.94 \\\\\n",
      "Other & 0.92 & 0.84 & 0.98 \\\\\n",
      "Accuracy:  0.8677165354330708\n",
      "Precision (TPR):  0.7871001573151547\n",
      "Accuracy:  0.8677165354330708\n",
      "F1:  0.7043641482871891\n",
      "ROC AUC:  0.7903712389734296\n"
     ]
    }
   ],
   "execution_count": 4
  },
  {
   "metadata": {
    "ExecuteTime": {
     "end_time": "2024-05-09T08:37:42.000902Z",
     "start_time": "2024-05-09T08:37:41.985773Z"
    }
   },
   "cell_type": "code",
   "source": [
    "# percentage of men that have income >50K\n",
    "print(\"Percentage of men >50k\", original_df[original_df[\"sex\"] == \"Male\"][\"income\"].value_counts(normalize=True)[\">50K\"])\n",
    "print(\"Percentage of woman >50k\", original_df[original_df[\"sex\"] == \"Female\"][\"income\"].value_counts(normalize=True)[\">50K\"])"
   ],
   "id": "f248c7327b1c7e72",
   "outputs": [
    {
     "name": "stdout",
     "output_type": "stream",
     "text": [
      "Percentage of men >50k 0.3037672281776417\n",
      "Percentage of woman >50k 0.10925148221343874\n"
     ]
    }
   ],
   "execution_count": 5
  },
  {
   "metadata": {
    "ExecuteTime": {
     "end_time": "2024-05-09T08:37:42.020189Z",
     "start_time": "2024-05-09T08:37:42.001714Z"
    }
   },
   "cell_type": "code",
   "source": [
    "print(\"Percentage of white >50k\", original_df[original_df[\"race\"] == \"White\"][\"income\"].value_counts(normalize=True)[\">50K\"])\n",
    "print(\"Percentage of other >50k\", original_df[original_df[\"race\"] != \"White\"][\"income\"].value_counts(normalize=True)[\">50K\"])"
   ],
   "id": "2f99e2f7058b077f",
   "outputs": [
    {
     "name": "stdout",
     "output_type": "stream",
     "text": [
      "Percentage of white >50k 0.2539868780230832\n",
      "Percentage of other >50k 0.15254237288135594\n"
     ]
    }
   ],
   "execution_count": 6
  },
  {
   "metadata": {
    "ExecuteTime": {
     "end_time": "2024-05-09T08:37:42.196714Z",
     "start_time": "2024-05-09T08:37:42.030763Z"
    }
   },
   "cell_type": "code",
   "source": [
    "surrogate_model = DecisionTreeSurrogate(model, {\"max_depth\": 3})\n",
    "surrogate_model.fit(train_X.values, train_y.values.reshape(-1))\n",
    "\n",
    "print(\"Performance in mimicking XGBoost model\")\n",
    "print(\"Accuracy: \", utils.calculate_accuracy_score(surrogate_model, test_X.values, model.predict(test_X.values)))\n",
    "print(\"F1: \", utils.calculate_f1_score(surrogate_model, test_X.values, model.predict(test_X.values)))\n",
    "print(\"ROC AUC: \", utils.calculate_auc_score(surrogate_model, test_X.values, model.predict(test_X.values)))\n",
    "\n",
    "print_metrics(surrogate_model, test_X, pd.DataFrame(columns=[\"income\"], data=model.predict(test_X.values).reshape(-1, 1), index=test_y.index), problem_data.original_df)"
   ],
   "id": "98e89f00bdefd24",
   "outputs": [
    {
     "name": "stdout",
     "output_type": "stream",
     "text": [
      "Performance in mimicking XGBoost model\n",
      "Accuracy:  0.916745406824147\n",
      "F1:  0.7738808098089536\n",
      "ROC AUC:  0.8398453735343513\n",
      "Sex & Accuracy & TPR & TNR\n",
      "Male & 0.89 & 0.85 & 0.95 \\\\\n",
      "Female & 0.96 & 0.86 & 0.99 \\\\\n",
      "Race & Accuracy & TPR & TNR\n",
      "White & 0.91 & 0.85 & 0.97 \\\\\n",
      "Other & 0.95 & 0.79 & 0.98 \\\\\n"
     ]
    }
   ],
   "execution_count": 7
  },
  {
   "metadata": {
    "ExecuteTime": {
     "end_time": "2024-05-09T08:37:42.271761Z",
     "start_time": "2024-05-09T08:37:42.197900Z"
    }
   },
   "cell_type": "code",
   "source": [
    "print(\"Performance in predicting dataset\")\n",
    "print(\"Accuracy: \", utils.calculate_accuracy_score(surrogate_model, test_X.values, test_y.values.reshape(-1)))\n",
    "print(\"F1: \", utils.calculate_f1_score(surrogate_model, test_X.values, test_y.values.reshape(-1)))\n",
    "print(\"ROC AUC: \", utils.calculate_auc_score(surrogate_model, test_X.values, test_y.values.reshape(-1)))\n",
    "\n",
    "print_metrics(surrogate_model, test_X, test_y, problem_data.original_df)"
   ],
   "id": "2978f5d6e8db4b3b",
   "outputs": [
    {
     "name": "stdout",
     "output_type": "stream",
     "text": [
      "Performance in predicting dataset\n",
      "Accuracy:  0.8413648293963255\n",
      "F1:  0.6179519595448799\n",
      "ROC AUC:  0.7330881503788788\n",
      "Sex & Accuracy & TPR & TNR\n",
      "Male & 0.80 & 0.76 & 0.92 \\\\\n",
      "Female & 0.93 & 0.80 & 0.99 \\\\\n",
      "Race & Accuracy & TPR & TNR\n",
      "White & 0.83 & 0.77 & 0.94 \\\\\n",
      "Other & 0.89 & 0.73 & 0.97 \\\\\n"
     ]
    }
   ],
   "execution_count": 8
  },
  {
   "metadata": {},
   "cell_type": "markdown",
   "source": "",
   "id": "938d71c72fdfe4fb"
  },
  {
   "metadata": {
    "ExecuteTime": {
     "end_time": "2024-05-09T08:37:42.405905Z",
     "start_time": "2024-05-09T08:37:42.274523Z"
    }
   },
   "cell_type": "code",
   "source": "surrogate_model.plot_feature_importance(problem_data.df_X.columns)",
   "id": "a9f46987144ba34a",
   "outputs": [
    {
     "data": {
      "text/plain": [
       "<Figure size 640x480 with 1 Axes>"
      ],
      "image/png": "[encoded data removed]"
     },
     "metadata": {},
     "output_type": "display_data"
    }
   ],
   "execution_count": 9
  },
  {
   "metadata": {
    "ExecuteTime": {
     "end_time": "2024-05-09T08:37:42.413675Z",
     "start_time": "2024-05-09T08:37:42.408452Z"
    }
   },
   "cell_type": "code",
   "source": "surrogate_model.print_decision_paths(problem_data.df_X.columns)",
   "id": "604b8d4a905c4fdd",
   "outputs": [
    {
     "name": "stdout",
     "output_type": "stream",
     "text": [
      "      Leaf(3): marital-status_Married-civ-spouse <= 0.50 AND capital-gain <= 0.07 AND capital-loss <= 0.54 -> Predict = [0.99, 0.01], Samples per class = [0.98680279 0.01319721], Total samples = 20080\n",
      "      Leaf(10): marital-status_Married-civ-spouse > 0.50 AND education-num <= 0.70 AND capital-gain <= 0.05 -> Predict = [0.83, 0.17], Samples per class = [0.82911562 0.17088438], Total samples = 11183\n",
      "      Leaf(11): marital-status_Married-civ-spouse > 0.50 AND education-num <= 0.70 AND capital-gain > 0.05 -> Predict = [0.02, 0.98], Samples per class = [0.01929825 0.98070175], Total samples = 570\n",
      "      Leaf(14): marital-status_Married-civ-spouse > 0.50 AND education-num > 0.70 AND age > 0.14 -> Predict = [0.17, 0.83], Samples per class = [0.17199282 0.82800718], Total samples = 5570\n"
     ]
    }
   ],
   "execution_count": 10
  },
  {
   "metadata": {
    "ExecuteTime": {
     "end_time": "2024-05-09T08:37:42.769250Z",
     "start_time": "2024-05-09T08:37:42.417194Z"
    }
   },
   "cell_type": "code",
   "source": "model, problem_data, train_X, train_y, test_X, test_y = train_model(DecisionTree, [], {\"max_depth\": 3, \"random_state\": 42})",
   "id": "e63823bb95c92c74",
   "outputs": [
    {
     "name": "stdout",
     "output_type": "stream",
     "text": [
      "Sex & Accuracy & TPR & TNR\n",
      "Male & 0.80 & 0.77 & 0.93 \\\\\n",
      "Female & 0.93 & 0.81 & 0.99 \\\\\n",
      "Race & Accuracy & TPR & TNR\n",
      "White & 0.83 & 0.78 & 0.95 \\\\\n",
      "Other & 0.89 & 0.75 & 0.97 \\\\\n",
      "Accuracy:  0.8403149606299213\n",
      "Precision (TPR):  0.7736220472440944\n"
     ]
    }
   ],
   "execution_count": 11
  },
  {
   "metadata": {
    "ExecuteTime": {
     "end_time": "2024-05-09T08:37:44.205477Z",
     "start_time": "2024-05-09T08:37:42.770062Z"
    }
   },
   "cell_type": "code",
   "source": "cross_validate(DecisionTree, [], {\"max_depth\": 3})",
   "id": "28efe74442f6af49",
   "outputs": [
    {
     "name": "stdout",
     "output_type": "stream",
     "text": [
      "Accuracy:  0.8423595061957029\n",
      "TPR:  0.7599578900194339\n",
      "TNR:  0.948336249366865\n"
     ]
    }
   ],
   "execution_count": 12
  },
  {
   "metadata": {
    "ExecuteTime": {
     "end_time": "2024-05-09T08:37:44.285476Z",
     "start_time": "2024-05-09T08:37:44.206321Z"
    }
   },
   "cell_type": "code",
   "source": [
    "model: DecisionTree\n",
    "model.plot_feature_importance(problem_data.df_X.columns)"
   ],
   "id": "1bd9c9f5ecec3489",
   "outputs": [
    {
     "data": {
      "text/plain": [
       "<Figure size 640x480 with 1 Axes>"
      ],
      "image/png": "[encoded data removed]"
     },
     "metadata": {},
     "output_type": "display_data"
    }
   ],
   "execution_count": 13
  },
  {
   "metadata": {
    "ExecuteTime": {
     "end_time": "2024-05-09T08:37:44.288794Z",
     "start_time": "2024-05-09T08:37:44.286258Z"
    }
   },
   "cell_type": "code",
   "source": "model.print_decision_paths(problem_data.df_X.columns)",
   "id": "c3ac69f7a2895b35",
   "outputs": [
    {
     "name": "stdout",
     "output_type": "stream",
     "text": [
      "      Leaf(3): marital-status_Married-civ-spouse <= 0.50 AND capital-gain <= 0.07 AND education-num <= 0.77 -> Predict = [0.98, 0.02], Samples per class = [0.97575308 0.02424692], Total samples = 16167\n",
      "      Leaf(4): marital-status_Married-civ-spouse <= 0.50 AND capital-gain <= 0.07 AND education-num > 0.77 -> Predict = [0.86, 0.14], Samples per class = [0.85685585 0.14314415], Total samples = 3982\n",
      "      Leaf(10): marital-status_Married-civ-spouse > 0.50 AND education-num <= 0.77 AND capital-gain <= 0.05 -> Predict = [0.7, 0.3], Samples per class = [0.70064075 0.29935925], Total samples = 11705\n",
      "      Leaf(11): marital-status_Married-civ-spouse > 0.50 AND education-num <= 0.77 AND capital-gain > 0.05 -> Predict = [0.02, 0.98], Samples per class = [0.0180624 0.9819376], Total samples = 609\n",
      "      Leaf(13): marital-status_Married-civ-spouse > 0.50 AND education-num > 0.77 AND capital-gain <= 0.05 -> Predict = [0.33, 0.67], Samples per class = [0.33348204 0.66651796], Total samples = 4483\n",
      "      Leaf(14): marital-status_Married-civ-spouse > 0.50 AND education-num > 0.77 AND capital-gain > 0.05 -> Predict = [0.0, 1.0], Samples per class = [0.00255428 0.99744572], Total samples = 783\n"
     ]
    }
   ],
   "execution_count": 14
  },
  {
   "metadata": {
    "ExecuteTime": {
     "end_time": "2024-05-09T08:37:44.958235Z",
     "start_time": "2024-05-09T08:37:44.290061Z"
    }
   },
   "cell_type": "code",
   "source": [
    "model, problem_data, train_X, train_y, test_X, test_y = train_model(LogRegression, [], {\"penalty\": \"l2\"})\n",
    "\n",
    "print(\"Accuracy: \", utils.calculate_accuracy_score(model, test_X.values, test_y.values.reshape(-1)))\n",
    "print(\"F1: \", utils.calculate_f1_score(model, test_X.values, test_y.values.reshape(-1)))\n",
    "print(\"ROC AUC: \", utils.calculate_auc_score(model, test_X.values, test_y.values.reshape(-1)))"
   ],
   "id": "4a9a36e6c4bcfb11",
   "outputs": [
    {
     "name": "stdout",
     "output_type": "stream",
     "text": [
      "Sex & Accuracy & TPR & TNR\n",
      "Male & 0.81 & 0.75 & 0.91 \\\\\n",
      "Female & 0.93 & 0.78 & 0.98 \\\\\n",
      "Race & Accuracy & TPR & TNR\n",
      "White & 0.84 & 0.75 & 0.93 \\\\\n",
      "Other & 0.90 & 0.76 & 0.97 \\\\\n",
      "Accuracy:  0.8472440944881889\n",
      "Precision (TPR):  0.7505567928730512\n",
      "Accuracy:  0.8472440944881889\n",
      "F1:  0.6494820525174657\n",
      "ROC AUC:  0.7549582922474215\n"
     ]
    }
   ],
   "execution_count": 15
  },
  {
   "metadata": {
    "ExecuteTime": {
     "end_time": "2024-05-09T08:37:45.116652Z",
     "start_time": "2024-05-09T08:37:44.960622Z"
    }
   },
   "cell_type": "code",
   "source": "model.plot_feature_importance(problem_data.df_X.columns, 10)",
   "id": "191305cd175a875",
   "outputs": [
    {
     "data": {
      "text/plain": [
       "<Figure size 640x480 with 1 Axes>"
      ],
      "image/png": "[encoded data removed]"
     },
     "metadata": {},
     "output_type": "display_data"
    }
   ],
   "execution_count": 16
  },
  {
   "metadata": {
    "ExecuteTime": {
     "end_time": "2024-05-09T08:37:45.138630Z",
     "start_time": "2024-05-09T08:37:45.123685Z"
    }
   },
   "cell_type": "code",
   "source": "",
   "id": "18fe280f7e6d35e8",
   "outputs": [],
   "execution_count": 16
  }
 ],
 "metadata": {
  "kernelspec": {
   "display_name": "Python 3",
   "language": "python",
   "name": "python3"
  },
  "language_info": {
   "codemirror_mode": {
    "name": "ipython",
    "version": 2
   },
   "file_extension": ".py",
   "mimetype": "text/x-python",
   "name": "python",
   "nbconvert_exporter": "python",
   "pygments_lexer": "ipython2",
   "version": "2.7.6"
  }
 },
 "nbformat": 4,
 "nbformat_minor": 5
}
